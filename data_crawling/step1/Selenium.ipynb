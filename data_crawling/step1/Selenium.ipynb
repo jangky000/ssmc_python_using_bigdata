{
 "cells": [
  {
   "cell_type": "markdown",
   "metadata": {},
   "source": [
    "## Selenium으로 크롤링하기\n",
    "\n",
    "- 셀리늄 공식홈페이지\n",
    "```\n",
    "https://www.seleniumhq.org/\n",
    "```\n",
    "\n",
    "- Google Chrome Driver 설치하기\n",
    "```\n",
    "https://chromedriver.storage.googleapis.com/index.html?path=2.45/\n",
    "```\n",
    "\n",
    "### 1. **selenium** 설치하기\n",
    "티미널에서 아래와 같은 명령어를 수행하자\n",
    "```\n",
    "pip install selenium\n",
    "conda install selenium\n",
    "```"
   ]
  },
  {
   "cell_type": "code",
   "execution_count": 54,
   "metadata": {},
   "outputs": [],
   "source": [
    "from selenium import webdriver as wd"
   ]
  },
  {
   "cell_type": "markdown",
   "metadata": {},
   "source": [
    "- 프록시 서버 사용, 브라우저를 숨긴다 ( 백그라운드 구동 )\n",
    "- 이미지만 빼고 로드, 브라우저의 크기, 위치 지정 등\n",
    "- 기다려!! 사이트가 다 올라올때까지... 다 내 맘같지 않아"
   ]
  },
  {
   "cell_type": "code",
   "execution_count": 55,
   "metadata": {},
   "outputs": [],
   "source": [
    "driver = wd.Chrome('../tool/chromedriver')\n",
    "\n",
    "# 타켓 사이트\n",
    "target_site = 'http://www.opinet.co.kr/searRgSelect.do'\n",
    "\n",
    "# 접속\n",
    "driver.get(target_site)"
   ]
  },
  {
   "cell_type": "code",
   "execution_count": 56,
   "metadata": {},
   "outputs": [],
   "source": [
    "# 지역설정 -> 시도 변경\n",
    "sido = driver.find_element_by_css_selector('#SIDO_NM0')\n",
    "# 임시조작\n",
    "sido.send_keys('서울광역시') # 웹상에서 서울특별시로 선택됨"
   ]
  },
  {
   "cell_type": "code",
   "execution_count": 60,
   "metadata": {},
   "outputs": [],
   "source": [
    "sigungu = driver.find_element_by_css_selector('#SIGUNGU_NM0')\n",
    "sigungu.send_keys('강남구')"
   ]
  },
  {
   "cell_type": "code",
   "execution_count": 61,
   "metadata": {},
   "outputs": [],
   "source": [
    "dong = driver.find_element_by_id('DONG_NM')\n",
    "dong.send_keys('역삼동')"
   ]
  },
  {
   "cell_type": "code",
   "execution_count": 62,
   "metadata": {},
   "outputs": [],
   "source": [
    "#조회 버튼 누르기\n",
    "driver.find_element_by_id('searRgSelect').click()"
   ]
  },
  {
   "cell_type": "code",
   "execution_count": 63,
   "metadata": {},
   "outputs": [],
   "source": [
    "#엑셀 다운로드\n",
    "driver.find_element_by_id('glopopd_excel').click()"
   ]
  },
  {
   "cell_type": "markdown",
   "metadata": {},
   "source": [
    "으ㅏㅏㅏㅏㅏㅏ"
   ]
  },
  {
   "cell_type": "code",
   "execution_count": 57,
   "metadata": {},
   "outputs": [],
   "source": [
    "# 시도 변경에 대해서 대상이 되는 option 값들 획득\n",
    "# sido에 대상이 되는 값들 => list형태로 받아서 for문 돌리자\n",
    "sido_entry = driver.find_elements_by_css_selector('#SIDO_NM0 > option')\n",
    "sido_entry_value = [entry.get_attribute('value')\n",
    "                    for entry in sido_entry\n",
    "                    if entry.get_attribute('value') # 빈칸이라면 생략\n",
    "                   ]\n",
    "# for entry in sido_entry:\n",
    "#     print(entry.get_attribute('value'))"
   ]
  },
  {
   "cell_type": "code",
   "execution_count": 59,
   "metadata": {},
   "outputs": [
    {
     "ename": "TypeError",
     "evalue": "object of type 'WebElement' has no len()",
     "output_type": "error",
     "traceback": [
      "\u001b[0;31m---------------------------------------------------------------------------\u001b[0m",
      "\u001b[0;31mTypeError\u001b[0m                                 Traceback (most recent call last)",
      "\u001b[0;32m<ipython-input-59-d5792275ff94>\u001b[0m in \u001b[0;36m<module>\u001b[0;34m()\u001b[0m\n\u001b[1;32m     15\u001b[0m                            ]\n\u001b[1;32m     16\u001b[0m     \u001b[0;32mfor\u001b[0m \u001b[0mentry_sb\u001b[0m \u001b[0;32min\u001b[0m \u001b[0msigungu_entry\u001b[0m\u001b[0;34m:\u001b[0m\u001b[0;34m\u001b[0m\u001b[0m\n\u001b[0;32m---> 17\u001b[0;31m         \u001b[0msigungu\u001b[0m\u001b[0;34m.\u001b[0m\u001b[0msend_keys\u001b[0m\u001b[0;34m(\u001b[0m\u001b[0mentry_sb\u001b[0m\u001b[0;34m)\u001b[0m\u001b[0;34m\u001b[0m\u001b[0m\n\u001b[0m\u001b[1;32m     18\u001b[0m         \u001b[0mtime\u001b[0m\u001b[0;34m.\u001b[0m\u001b[0msleep\u001b[0m\u001b[0;34m(\u001b[0m\u001b[0;36m10\u001b[0m\u001b[0;34m)\u001b[0m\u001b[0;34m\u001b[0m\u001b[0m\n\u001b[1;32m     19\u001b[0m \u001b[0;34m\u001b[0m\u001b[0m\n",
      "\u001b[0;32m/anaconda3/lib/python3.6/site-packages/selenium/webdriver/remote/webelement.py\u001b[0m in \u001b[0;36msend_keys\u001b[0;34m(self, *value)\u001b[0m\n\u001b[1;32m    476\u001b[0m \u001b[0;34m\u001b[0m\u001b[0m\n\u001b[1;32m    477\u001b[0m         self._execute(Command.SEND_KEYS_TO_ELEMENT,\n\u001b[0;32m--> 478\u001b[0;31m                       {'text': \"\".join(keys_to_typing(value)),\n\u001b[0m\u001b[1;32m    479\u001b[0m                        'value': keys_to_typing(value)})\n\u001b[1;32m    480\u001b[0m \u001b[0;34m\u001b[0m\u001b[0m\n",
      "\u001b[0;32m/anaconda3/lib/python3.6/site-packages/selenium/webdriver/common/utils.py\u001b[0m in \u001b[0;36mkeys_to_typing\u001b[0;34m(value)\u001b[0m\n\u001b[1;32m    148\u001b[0m                 \u001b[0mtyping\u001b[0m\u001b[0;34m.\u001b[0m\u001b[0mappend\u001b[0m\u001b[0;34m(\u001b[0m\u001b[0mval\u001b[0m\u001b[0;34m[\u001b[0m\u001b[0mi\u001b[0m\u001b[0;34m]\u001b[0m\u001b[0;34m)\u001b[0m\u001b[0;34m\u001b[0m\u001b[0m\n\u001b[1;32m    149\u001b[0m         \u001b[0;32melse\u001b[0m\u001b[0;34m:\u001b[0m\u001b[0;34m\u001b[0m\u001b[0m\n\u001b[0;32m--> 150\u001b[0;31m             \u001b[0;32mfor\u001b[0m \u001b[0mi\u001b[0m \u001b[0;32min\u001b[0m \u001b[0mrange\u001b[0m\u001b[0;34m(\u001b[0m\u001b[0mlen\u001b[0m\u001b[0;34m(\u001b[0m\u001b[0mval\u001b[0m\u001b[0;34m)\u001b[0m\u001b[0;34m)\u001b[0m\u001b[0;34m:\u001b[0m\u001b[0;34m\u001b[0m\u001b[0m\n\u001b[0m\u001b[1;32m    151\u001b[0m                 \u001b[0mtyping\u001b[0m\u001b[0;34m.\u001b[0m\u001b[0mappend\u001b[0m\u001b[0;34m(\u001b[0m\u001b[0mval\u001b[0m\u001b[0;34m[\u001b[0m\u001b[0mi\u001b[0m\u001b[0;34m]\u001b[0m\u001b[0;34m)\u001b[0m\u001b[0;34m\u001b[0m\u001b[0m\n\u001b[1;32m    152\u001b[0m     \u001b[0;32mreturn\u001b[0m \u001b[0mtyping\u001b[0m\u001b[0;34m\u001b[0m\u001b[0m\n",
      "\u001b[0;31mTypeError\u001b[0m: object of type 'WebElement' has no len()"
     ]
    }
   ],
   "source": [
    "import time\n",
    "# 조작 진행\n",
    "for sido_txt in sido_entry_value:\n",
    "    # 시도설정\n",
    "    sido.send_keys(sido_txt)\n",
    "    # 강제적 슬립 -> 페이지가 올라올때까지 기다려줘야한다\n",
    "    time.sleep(10)\n",
    "    \n",
    "    #시군구 -> 찾아서 option 값 구함\n",
    "    sigungu = driver.find_element_by_css_selector('#SIGUNGU_NM0')\n",
    "    sigungu_entry = driver.find_elements_by_css_selector('#SIGUNGU_NM0 > option')\n",
    "    sigungu_entry_value = [ entry.get_attribute('value')\n",
    "                            for entry in sigungu_entry\n",
    "                            if entry.get_attribute('value') # 빈칸이라면 생략\n",
    "                           ]\n",
    "    for entry_sb in sigungu_entry:\n",
    "        sigungu.send_keys(entry_sb)\n",
    "        time.sleep(10)\n",
    "        \n",
    "        dong = driver.find_element_by_id('DONG_NM')\n",
    "        dong.send_keys('역삼동')\n",
    "        \n",
    "        # 첫번째 구만 보고 끝\n",
    "        break\n",
    "    \n",
    "    # 서울특별시만\n",
    "    break"
   ]
  },
  {
   "cell_type": "code",
   "execution_count": 51,
   "metadata": {},
   "outputs": [],
   "source": [
    "#조회 버튼 누르기\n",
    "driver.find_element_by_id('searRgSelect').click()"
   ]
  },
  {
   "cell_type": "code",
   "execution_count": null,
   "metadata": {},
   "outputs": [],
   "source": []
  }
 ],
 "metadata": {
  "kernelspec": {
   "display_name": "Python 3",
   "language": "python",
   "name": "python3"
  },
  "language_info": {
   "codemirror_mode": {
    "name": "ipython",
    "version": 3
   },
   "file_extension": ".py",
   "mimetype": "text/x-python",
   "name": "python",
   "nbconvert_exporter": "python",
   "pygments_lexer": "ipython3",
   "version": "3.6.5"
  }
 },
 "nbformat": 4,
 "nbformat_minor": 2
}
