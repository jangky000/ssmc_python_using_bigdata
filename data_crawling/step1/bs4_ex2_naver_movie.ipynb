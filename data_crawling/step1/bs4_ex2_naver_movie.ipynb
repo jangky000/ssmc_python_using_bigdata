{
 "cells": [
  {
   "cell_type": "markdown",
   "metadata": {},
   "source": [
    "### 네이버평점을 크롤링하기\n",
    "\n",
    "`https://movie.naver.com/movie/sdb/rank/rmovie.nhn?sel=cur&tg=0&date=20050207`\n",
    "\n",
    "2005.02.07 ~ 2019.01.16까지 네이버 평점을 모두 수집  \n",
    "이후에는 매일 1회 수집을 진행하여 항상 최신 정보를 유지"
   ]
  },
  {
   "cell_type": "code",
   "execution_count": 16,
   "metadata": {},
   "outputs": [],
   "source": [
    "from bs4 import BeautifulSoup\n",
    "from urllib.request import urlopen\n",
    "url_base = 'https://movie.naver.com/movie/sdb/rank/rmovie.nhn?sel=cur&tg=0&date=20190116'\n",
    "page = urlopen(url_base)\n",
    "soup = BeautifulSoup(page,'html.parser')\n",
    "movie_rank = [ {'title':div.a.string.strip()}\n",
    "         for div in soup.select('div.tit5') ]"
   ]
  },
  {
   "cell_type": "code",
   "execution_count": null,
   "metadata": {},
   "outputs": [],
   "source": []
  }
 ],
 "metadata": {
  "kernelspec": {
   "display_name": "Python 3",
   "language": "python",
   "name": "python3"
  },
  "language_info": {
   "codemirror_mode": {
    "name": "ipython",
    "version": 3
   },
   "file_extension": ".py",
   "mimetype": "text/x-python",
   "name": "python",
   "nbconvert_exporter": "python",
   "pygments_lexer": "ipython3",
   "version": "3.6.5"
  }
 },
 "nbformat": 4,
 "nbformat_minor": 2
}
