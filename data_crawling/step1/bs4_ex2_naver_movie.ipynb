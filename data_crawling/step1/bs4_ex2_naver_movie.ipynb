{
 "cells": [
  {
   "cell_type": "markdown",
   "metadata": {},
   "source": [
    "### 네이버평점을 크롤링하기\n",
    "\n",
    "`https://movie.naver.com/movie/sdb/rank/rmovie.nhn?sel=cur&tg=0&date=20050207`\n",
    "\n",
    "2005.02.07 ~ 2019.01.16까지 네이버 평점을 모두 수집  \n",
    "이후에는 매일 1회 수집을 진행하여 항상 최신 정보를 유지"
   ]
  },
  {
   "cell_type": "code",
   "execution_count": 1,
   "metadata": {},
   "outputs": [
    {
     "data": {
      "text/plain": [
       "[<div class=\"tit5\">\n",
       " <a href=\"/movie/bi/mi/basic.nhn?code=171539\" title=\"그린 북\">그린 북</a>\n",
       " </div>]"
      ]
     },
     "execution_count": 1,
     "metadata": {},
     "output_type": "execute_result"
    }
   ],
   "source": [
    "from bs4 import BeautifulSoup\n",
    "from urllib.request import urlopen\n",
    "search_time = '20190117'\n",
    "url = 'https://movie.naver.com/movie/sdb/rank/rmovie.nhn?sel=cur&tg=0&date=%s'\n",
    "page = urlopen(url % search_time)\n",
    "soup = BeautifulSoup(page,'html.parser')\n",
    "# movie_rank = [ {'title':div.a.string.strip()\n",
    "#                 #'rank' : i\n",
    "#                }\n",
    "#          for div in soup.select('div.tit5') ]\n",
    "divs = soup.find_all('div',class_='tit5')\n",
    "points = soup.find_all('td','point')\n",
    "divs[:1]"
   ]
  },
  {
   "cell_type": "code",
   "execution_count": 2,
   "metadata": {},
   "outputs": [
    {
     "data": {
      "text/plain": [
       "'그린 북'"
      ]
     },
     "execution_count": 2,
     "metadata": {},
     "output_type": "execute_result"
    }
   ],
   "source": [
    "divs[0].a.string"
   ]
  },
  {
   "cell_type": "code",
   "execution_count": 3,
   "metadata": {},
   "outputs": [
    {
     "data": {
      "text/plain": [
       "'9.66'"
      ]
     },
     "execution_count": 3,
     "metadata": {},
     "output_type": "execute_result"
    }
   ],
   "source": [
    "points[0].string"
   ]
  },
  {
   "cell_type": "code",
   "execution_count": 4,
   "metadata": {},
   "outputs": [
    {
     "data": {
      "text/plain": [
       "[{'time': '20190117', 'movie': '그린 북', 'point': '9.66'},\n",
       " {'time': '20190117', 'movie': '보헤미안 랩소디', 'point': '9.48'},\n",
       " {'time': '20190117', 'movie': '폴란드로 간 아이들', 'point': '9.42'},\n",
       " {'time': '20190117', 'movie': '헌터 킬러', 'point': '9.40'},\n",
       " {'time': '20190117', 'movie': '스파이더맨: 뉴 유니버스', 'point': '9.26'},\n",
       " {'time': '20190117', 'movie': '러빙 빈센트', 'point': '9.20'},\n",
       " {'time': '20190117', 'movie': '극장판 공룡메카드: 타이니소어의 섬', 'point': '9.18'},\n",
       " {'time': '20190117', 'movie': '점박이 한반도의 공룡2 : 새로운 낙원', 'point': '9.18'},\n",
       " {'time': '20190117', 'movie': '바울', 'point': '9.17'},\n",
       " {'time': '20190117', 'movie': '스타 이즈 본', 'point': '9.15'},\n",
       " {'time': '20190117', 'movie': '인생 후르츠', 'point': '9.14'},\n",
       " {'time': '20190117', 'movie': '타샤 튜더', 'point': '9.14'},\n",
       " {'time': '20190117', 'movie': '로마', 'point': '9.10'},\n",
       " {'time': '20190117', 'movie': '극장판 포켓몬스터 모두의 이야기', 'point': '9.04'},\n",
       " {'time': '20190117', 'movie': '말모이', 'point': '9.04'},\n",
       " {'time': '20190117', 'movie': '어거스트 러쉬', 'point': '9.00'},\n",
       " {'time': '20190117', 'movie': '카메라를 멈추면 안 돼!', 'point': '8.99'},\n",
       " {'time': '20190117', 'movie': '소공녀', 'point': '8.87'},\n",
       " {'time': '20190117', 'movie': '내안의 그놈', 'point': '8.85'},\n",
       " {'time': '20190117', 'movie': '주먹왕 랄프 2: 인터넷 속으로', 'point': '8.77'},\n",
       " {'time': '20190117', 'movie': '김광석', 'point': '8.72'},\n",
       " {'time': '20190117', 'movie': '악마는 프라다를 입는다', 'point': '8.66'},\n",
       " {'time': '20190117', 'movie': '라라랜드', 'point': '8.59'},\n",
       " {'time': '20190117',\n",
       "  'movie': '극장판 짱구는 못말려: 아뵤! 쿵후 보이즈 ~라면 대란~',\n",
       "  'point': '8.52'},\n",
       " {'time': '20190117', 'movie': '스윙키즈', 'point': '8.50'},\n",
       " {'time': '20190117', 'movie': '영주', 'point': '8.45'},\n",
       " {'time': '20190117', 'movie': '티파니에서 아침을', 'point': '8.40'},\n",
       " {'time': '20190117', 'movie': '아쿠아맨', 'point': '8.38'},\n",
       " {'time': '20190117', 'movie': '그랜드 부다페스트 호텔', 'point': '8.38'},\n",
       " {'time': '20190117', 'movie': '그린치', 'point': '8.36'},\n",
       " {'time': '20190117', 'movie': '국가부도의 날', 'point': '8.18'},\n",
       " {'time': '20190117', 'movie': '범블비', 'point': '8.17'},\n",
       " {'time': '20190117', 'movie': '죄 많은 소녀', 'point': '8.06'},\n",
       " {'time': '20190117', 'movie': '부탁 하나만 들어줘', 'point': '7.88'},\n",
       " {'time': '20190117', 'movie': '군산: 거위를 노래하다', 'point': '6.96'},\n",
       " {'time': '20190117', 'movie': '마약왕', 'point': '6.53'},\n",
       " {'time': '20190117', 'movie': '도어락', 'point': '6.28'},\n",
       " {'time': '20190117', 'movie': '언니', 'point': '6.12'},\n",
       " {'time': '20190117', 'movie': 'PMC: 더 벙커', 'point': '5.33'}]"
      ]
     },
     "execution_count": 4,
     "metadata": {},
     "output_type": "execute_result"
    }
   ],
   "source": [
    "# 제목들\n",
    "# title_list = [ {'movie':n.a.string\n",
    "#                 for n in divs ]\n",
    "# for n in  range(len(points)):\n",
    "#     print(divs[n].a.string, points[n].string)\n",
    "    \n",
    "dump = [ {  'time'  : search_time,\n",
    "            'movie' : divs[n].a.string,\n",
    "            'point' : points[n].string \n",
    "} for n in  range(len(points)) ]\n",
    "dump"
   ]
  },
  {
   "cell_type": "code",
   "execution_count": 5,
   "metadata": {},
   "outputs": [],
   "source": [
    "# 연속된 날짜 리스트 획득 -> 시계열 데이터 구성\n",
    "import pandas as pd"
   ]
  },
  {
   "cell_type": "code",
   "execution_count": 6,
   "metadata": {},
   "outputs": [
    {
     "data": {
      "text/plain": [
       "DatetimeIndex(['2018-12-07', '2018-12-08', '2018-12-09', '2018-12-10',\n",
       "               '2018-12-11', '2018-12-12', '2018-12-13', '2018-12-14',\n",
       "               '2018-12-15', '2018-12-16', '2018-12-17', '2018-12-18',\n",
       "               '2018-12-19', '2018-12-20', '2018-12-21', '2018-12-22',\n",
       "               '2018-12-23', '2018-12-24', '2018-12-25', '2018-12-26',\n",
       "               '2018-12-27', '2018-12-28', '2018-12-29', '2018-12-30',\n",
       "               '2018-12-31', '2019-01-01', '2019-01-02', '2019-01-03',\n",
       "               '2019-01-04', '2019-01-05', '2019-01-06', '2019-01-07',\n",
       "               '2019-01-08', '2019-01-09', '2019-01-10', '2019-01-11',\n",
       "               '2019-01-12', '2019-01-13', '2019-01-14', '2019-01-15',\n",
       "               '2019-01-16'],\n",
       "              dtype='datetime64[ns]', freq='D')"
      ]
     },
     "execution_count": 6,
     "metadata": {},
     "output_type": "execute_result"
    }
   ],
   "source": [
    "date = pd.date_range('2018-12-07','2019-01-16',freq='D')\n",
    "date"
   ]
  },
  {
   "cell_type": "code",
   "execution_count": 7,
   "metadata": {},
   "outputs": [],
   "source": [
    "# 진행률 표시\n",
    "from tqdm import tqdm_notebook\n",
    "tmp = []"
   ]
  },
  {
   "cell_type": "code",
   "execution_count": 8,
   "metadata": {},
   "outputs": [
    {
     "data": {
      "application/vnd.jupyter.widget-view+json": {
       "model_id": "a5108cd1d2fb4051a4eecf100e46a716",
       "version_major": 2,
       "version_minor": 0
      },
      "text/plain": [
       "HBox(children=(IntProgress(value=0, max=41), HTML(value='')))"
      ]
     },
     "metadata": {},
     "output_type": "display_data"
    },
    {
     "name": "stdout",
     "output_type": "stream",
     "text": [
      "\n"
     ]
    }
   ],
   "source": [
    "for d in tqdm_notebook(date):\n",
    "    # 우리가 원하는 포맷 : YYYYMMDD\n",
    "    # print(d.strftime('%Y%m%d'))\n",
    "    search_time = d.strftime('%Y%m%d')\n",
    "    page = urlopen(url % search_time)\n",
    "    soup = BeautifulSoup(page,'html.parser')\n",
    "    divs = soup.find_all('div',class_='tit5')\n",
    "    points = soup.find_all('td','point')\n",
    "    dump = [ {  'time'  : search_time,\n",
    "            'movie' : divs[n].a.string,\n",
    "            'point' : points[n].string }\n",
    "            for n in  range(len(points)) ]\n",
    "    tmp.extend(dump)  "
   ]
  },
  {
   "cell_type": "code",
   "execution_count": null,
   "metadata": {},
   "outputs": [],
   "source": []
  },
  {
   "cell_type": "code",
   "execution_count": null,
   "metadata": {},
   "outputs": [],
   "source": []
  }
 ],
 "metadata": {
  "kernelspec": {
   "display_name": "Python 3",
   "language": "python",
   "name": "python3"
  },
  "language_info": {
   "codemirror_mode": {
    "name": "ipython",
    "version": 3
   },
   "file_extension": ".py",
   "mimetype": "text/x-python",
   "name": "python",
   "nbconvert_exporter": "python",
   "pygments_lexer": "ipython3",
   "version": "3.6.5"
  }
 },
 "nbformat": 4,
 "nbformat_minor": 2
}
