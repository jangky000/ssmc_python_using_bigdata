{
 "cells": [
  {
   "cell_type": "code",
   "execution_count": 1,
   "metadata": {},
   "outputs": [],
   "source": [
    "from selenium import webdriver as wd\n",
    "import urllib"
   ]
  },
  {
   "cell_type": "code",
   "execution_count": 16,
   "metadata": {},
   "outputs": [
    {
     "data": {
      "text/plain": [
       "'https://www.youtube.com/results?search_query=%EC%95%8C%ED%95%A8%EB%B8%8C%EB%9D%BC%20%EA%B6%81%EC%A0%84%EC%9D%98%20%EC%B6%94%EC%96%B5&sp=CAIShAB'"
      ]
     },
     "execution_count": 16,
     "metadata": {},
     "output_type": "execute_result"
    }
   ],
   "source": [
    "url = 'https://www.youtube.com/results'\n",
    "params = '?search_query=%s&sp=CAIShAB'\n",
    "keyword = urllib.parse.quote('알함브라 궁전의 추억')\n",
    "f_url = url + (params % keyword)\n",
    "f_url"
   ]
  },
  {
   "cell_type": "code",
   "execution_count": 17,
   "metadata": {},
   "outputs": [],
   "source": [
    "driver = wd.Chrome('../tool/chromedriver')"
   ]
  },
  {
   "cell_type": "code",
   "execution_count": 18,
   "metadata": {},
   "outputs": [],
   "source": [
    "driver.get(f_url)"
   ]
  },
  {
   "cell_type": "markdown",
   "metadata": {},
   "source": [
    "검색 결과를 최대치로 얻기 위해서 데이터를 더 불러오게 처리함  \n",
    "스크롤 이벤트를 발생시켜서 ajax를 구동하여 최대치로 가져온다"
   ]
  },
  {
   "cell_type": "code",
   "execution_count": 19,
   "metadata": {},
   "outputs": [],
   "source": [
    "import time\n",
    "\n",
    "for n in range(10):\n",
    "    driver.execute_script('window.scrollBy(0,1000)') # 자바스크립트를 돌리는 코드\n",
    "    time.sleep(1)"
   ]
  },
  {
   "cell_type": "markdown",
   "metadata": {},
   "source": [
    "`ytd-video-renderer`가 검색 결과의 총 갯수"
   ]
  },
  {
   "cell_type": "code",
   "execution_count": 27,
   "metadata": {},
   "outputs": [
    {
     "data": {
      "text/plain": [
       "70"
      ]
     },
     "execution_count": 27,
     "metadata": {},
     "output_type": "execute_result"
    }
   ],
   "source": [
    "videos = driver.find_elements_by_tag_name('ytd-video-renderer')\n",
    "len(videos)"
   ]
  },
  {
   "cell_type": "code",
   "execution_count": 31,
   "metadata": {},
   "outputs": [
    {
     "name": "stdout",
     "output_type": "stream",
     "text": [
      "https://www.youtube.com/watch?v=f4XPoT3i3dc\n",
      "https://i.ytimg.com/vi/f4XPoT3i3dc/hqdefault.jpg?sqp=-oaymwEZCPYBEIoBSFXyq4qpAwsIARUAAIhCGAFwAQ==&rs=AOn4CLAO3XRZBLNFvzxnH1eHfYyE5ECGlQ\n",
      "알함브라 궁전의 추억 결말 예상! dede alhambra drama review\n",
      "https://www.youtube.com/watch?v=Bju47BpHbLw\n",
      "https://i.ytimg.com/vi/Bju47BpHbLw/hqdefault.jpg?sqp=-oaymwEZCPYBEIoBSFXyq4qpAwsIARUAAIhCGAFwAQ==&rs=AOn4CLCaxI5-OvkWDkyzKIoA_4nC5ckF7g\n",
      "[알함브라 궁전의 추억] 50가지 그림자 패러디 현빈 박신혜 (HyunBin ParkShinhye)\n",
      "https://www.youtube.com/watch?v=WbxKPpRqklE\n",
      "https://i.ytimg.com/vi/WbxKPpRqklE/hqdefault.jpg?sqp=-oaymwEZCPYBEIoBSFXyq4qpAwsIARUAAIhCGAFwAQ==&rs=AOn4CLCBZBzPgVkH2YTkvDvXjKIAb5d9Eg\n",
      "[알함브라 궁전의 추억] 중요한 떡밥 복선과 모티브, 이스터에그 [memories of the alhambra] ending is in the opening! eng sub\n",
      "https://www.youtube.com/watch?v=AIzKsNIRrV4\n",
      "https://i.ytimg.com/vi/AIzKsNIRrV4/hqdefault.jpg?sqp=-oaymwEZCPYBEIoBSFXyq4qpAwsIARUAAIhCGAFwAQ==&rs=AOn4CLDJmfzpyFgsHZgZeOtPwyz_01ZPCw\n",
      "Classical/guitar, Jim Greeninger, Recuerdos de la Alhambra\n",
      "https://www.youtube.com/watch?v=FvhWloYLj54\n",
      "https://i.ytimg.com/vi/FvhWloYLj54/hqdefault.jpg?sqp=-oaymwEZCPYBEIoBSFXyq4qpAwsIARUAAIhCGAFwAQ==&rs=AOn4CLBMnuswbvN3NwZUhYam3wO6d4pmWg\n",
      "[알함브라 궁전의 추억 OST Part 3] 에일리 (Ailee) - Is You MV\n",
      "https://www.youtube.com/watch?v=XxycDM5omck\n",
      "https://i.ytimg.com/vi/XxycDM5omck/hqdefault.jpg?sqp=-oaymwEZCPYBEIoBSFXyq4qpAwsIARUAAIhCGAFwAQ==&rs=AOn4CLDRd6S73chm_3xMdqB53XS3PD8wLw\n",
      "[알함브라 궁전의 추억 OST Part 5] 양다일 (Yang Da Il) - I'm Here MV\n",
      "https://www.youtube.com/watch?v=ufUyNacp3IQ\n",
      "https://i.ytimg.com/vi/ufUyNacp3IQ/hqdefault.jpg?sqp=-oaymwEZCPYBEIoBSFXyq4qpAwsIARUAAIhCGAFwAQ==&rs=AOn4CLAmC5yTHNf0BGgLlkKD6HFXsEjWRA\n",
      "[알함브라 궁전의 추억] 황금열쇠, 엔딩은 오프닝에 나와있다 [Memories of the alhambra] what's the purpose of the key? eng sub\n",
      "https://www.youtube.com/watch?v=qEjJDe4-eQE\n",
      "https://i.ytimg.com/vi/qEjJDe4-eQE/hqdefault.jpg?sqp=-oaymwEZCPYBEIoBSFXyq4qpAwsIARUAAIhCGAFwAQ==&rs=AOn4CLDYHrb3EJUWA_Ro_CUu2DsvqGDa7Q\n",
      "[MV] Eddy Kim (에디킴) - 우린 어쩌면 / 알함브라 궁전의 추억 (Memories of the Alhambra) OST Part 6\n",
      "https://www.youtube.com/watch?v=F7JaMbiILeM\n",
      "https://i.ytimg.com/vi/F7JaMbiILeM/hqdefault.jpg?sqp=-oaymwEZCPYBEIoBSFXyq4qpAwsIARUAAIhCGAFwAQ==&rs=AOn4CLCBNs2rdMvsPnj8Hu3jXDxzfaG3yw\n",
      "알함브라 궁전의 추억 OST모음\n",
      "https://www.youtube.com/watch?v=n-JRxYYk81E\n",
      "https://i.ytimg.com/vi/n-JRxYYk81E/hqdefault.jpg?sqp=-oaymwEZCPYBEIoBSFXyq4qpAwsIARUAAIhCGAFwAQ==&rs=AOn4CLAFKlyKUMw_I0WpHDe_Q6dkTh3P8A\n",
      "알함브라 궁전의 추억 조금씩 드러나는 실마리\n",
      "https://www.youtube.com/watch?v=2kwz2IFdBVw\n",
      "https://i.ytimg.com/vi/2kwz2IFdBVw/hqdefault.jpg?sqp=-oaymwEZCNACELwBSFXyq4qpAwsIARUAAIhCGAFwAQ==&rs=AOn4CLCmgaRNhpYkJaccMnqywfSLLDX4Og\n",
      "Memories of the Alhambra [비하인드] 현빈x박신혜, 케미 터진 두 사람의 설렘 가득♥ 포스터 촬영 현장! 181201 EP.1\n",
      "https://www.youtube.com/watch?v=oc-oCc2hjJo\n",
      "https://i.ytimg.com/vi/oc-oCc2hjJo/hqdefault.jpg?sqp=-oaymwEZCNACELwBSFXyq4qpAwsIARUAAIhCGAFwAQ==&rs=AOn4CLDSrNItHGV52joWUssZ1YjKZMEmhw\n",
      "KISS SCENE/ MEMORIES OF THE ALHAMBRA 알함브라 궁전의 추억 키스신\n",
      "https://www.youtube.com/watch?v=mBFUqvMCH7A\n",
      "https://i.ytimg.com/vi/mBFUqvMCH7A/hqdefault.jpg?sqp=-oaymwEZCNACELwBSFXyq4qpAwsIARUAAIhCGAFwAQ==&rs=AOn4CLDOvzi8HmM6Yv2XCMbFc9X-wLsdeg\n",
      "박규희(Kyuhee Park) - Recuerdos de la Alhambra(알함브라 궁전의 추억) EBS 공감\n",
      "https://www.youtube.com/watch?v=yD-yc4iOvjE\n",
      "https://i.ytimg.com/vi/yD-yc4iOvjE/hqdefault.jpg?sqp=-oaymwEZCNACELwBSFXyq4qpAwsIARUAAIhCGAFwAQ==&rs=AOn4CLBU9p7eR4kmw3doplGGypQoy7cHdg\n",
      "tvN 드라마 알함브라 궁전의 추억, 스페인 현지 반응\n",
      "https://www.youtube.com/watch?v=C8HGcHLuhqE\n",
      "https://i.ytimg.com/vi/C8HGcHLuhqE/hqdefault.jpg?sqp=-oaymwEZCNACELwBSFXyq4qpAwsIARUAAIhCGAFwAQ==&rs=AOn4CLCVeDqZnTZJHaRcfPcyGPQEvpTkew\n",
      "[알함브라 궁전의 추억] Suit ZINU ver. 현빈 HyunBin\n",
      "https://www.youtube.com/watch?v=mpX5QzrP71M\n",
      "https://i.ytimg.com/vi/mpX5QzrP71M/hqdefault.jpg?sqp=-oaymwEZCNACELwBSFXyq4qpAwsIARUAAIhCGAFwAQ==&rs=AOn4CLDpFFv1dTHvYku6ML9VSUYd07TYYA\n",
      "[MV] Eddy Kim (에디킴) - 우린 어쩌면 (알함브라 궁전의 추억 OST Part 6 _ Memories of The Alhambra OST Part 6)\n",
      "https://www.youtube.com/watch?v=lds88u3h8Rk\n",
      "https://i.ytimg.com/vi/lds88u3h8Rk/hqdefault.jpg?sqp=-oaymwEZCNACELwBSFXyq4qpAwsIARUAAIhCGAFwAQ==&rs=AOn4CLABZY42hXR_JsEsrHX1tJmuKt6qSg\n",
      "대도서관이 찰떡같이 설명해주는 '알함브라 궁전의 추억' 속 AR 게임!\n",
      "https://www.youtube.com/watch?v=-Exaqo1YTww\n",
      "https://i.ytimg.com/vi/-Exaqo1YTww/hqdefault.jpg?sqp=-oaymwEZCNACELwBSFXyq4qpAwsIARUAAIhCGAFwAQ==&rs=AOn4CLAqdfyKTX3K_yTMmow1pyS0xKZ67Q\n",
      "✪ 알함브라 궁전의 추억 14회-현빈은 사라지고 찬열이 돌아왔다 ✪ KDH최신 뉴스\n",
      "https://www.youtube.com/watch?v=SKPyCQn9UME\n",
      "https://i.ytimg.com/vi/SKPyCQn9UME/hqdefault.jpg?sqp=-oaymwEZCNACELwBSFXyq4qpAwsIARUAAIhCGAFwAQ==&rs=AOn4CLBJUXqwPTLm_BsdXR7d8xZUDOJ95w\n",
      "[알함브라 궁전의 추억 OST Part 1] 로꼬 (Loco) & 유성은 (U Seungeun) - 별 (Star) (Little Prince) MV\n",
      "https://www.youtube.com/watch?v=FyTaQZUpy2o\n",
      "https://i.ytimg.com/vi/FyTaQZUpy2o/hqdefault.jpg?sqp=-oaymwEZCNACELwBSFXyq4qpAwsIARUAAIhCGAFwAQ==&rs=AOn4CLAnFWUJWvAYmB8yZ-na3PeF-ToqOw\n",
      "[ENG SUB] 알함브라 궁전의 추억 진우x희주 연애의 온도 패러디\n",
      "https://www.youtube.com/watch?v=_9XGf8c_VMU\n",
      "https://i.ytimg.com/vi/_9XGf8c_VMU/hqdefault.jpg?sqp=-oaymwEZCNACELwBSFXyq4qpAwsIARUAAIhCGAFwAQ==&rs=AOn4CLAU3vQRJ3tdCfZmWqy4fQ58VqoJNg\n",
      "박신혜 알함브라궁전의 추억 마지막찰영 소감 (1)\n",
      "https://www.youtube.com/watch?v=2hiD9TRTC04\n",
      "https://i.ytimg.com/vi/2hiD9TRTC04/hqdefault.jpg?sqp=-oaymwEZCNACELwBSFXyq4qpAwsIARUAAIhCGAFwAQ==&rs=AOn4CLCDmc6yJiJ-U3-pDiSN6anlF_qHxw\n",
      "Memories of the Alhambra [알함브라 궁전의 추억 더 비기닝] 12월 1일 토요일 밤 9시 첫 방송 181201 EP.1\n",
      "https://www.youtube.com/watch?v=pXuP37H3xTo\n",
      "https://i.ytimg.com/vi/pXuP37H3xTo/hqdefault.jpg?sqp=-oaymwEZCNACELwBSFXyq4qpAwsIARUAAIhCGAFwAQ==&rs=AOn4CLDgW6MNX1VvH1QJsQjO32HAtpSqLw\n",
      "Memories of the Alhambra [15화 예고] 살아서 돌아온 세주, '난 안 죽였어.' 190119 EP.15\n",
      "https://www.youtube.com/watch?v=agK1E7N1RV4\n",
      "https://i.ytimg.com/vi/agK1E7N1RV4/hqdefault.jpg?sqp=-oaymwEZCNACELwBSFXyq4qpAwsIARUAAIhCGAFwAQ==&rs=AOn4CLDA-8QEVX1VbdtZQZEFeG1IjxmjBA\n",
      "에디킴 - 우린 어쩌면 Memories of the Alhambra OST Part 6 / 알함브라 궁전의 추억 OST Part 6\n",
      "https://www.youtube.com/watch?v=a2U2C6LHMTk\n",
      "https://i.ytimg.com/vi/a2U2C6LHMTk/hqdefault.jpg?sqp=-oaymwEZCNACELwBSFXyq4qpAwsIARUAAIhCGAFwAQ==&rs=AOn4CLDxR8tn2ZnFopmkPDKd2vhdB3v2bA\n",
      "[알함브라 궁전의 추억 복선] 시타델에 숨은 메시지. 세주가 피신해 있는 곳.\n",
      "https://www.youtube.com/watch?v=qHeOosyyDow\n",
      "https://i.ytimg.com/vi/qHeOosyyDow/hqdefault.jpg?sqp=-oaymwEZCNACELwBSFXyq4qpAwsIARUAAIhCGAFwAQ==&rs=AOn4CLDPH2KjF3hWJ1EuNjSjFrnvuihCEg\n",
      "[Full ver] tvN 새 토일극 '알함브라 궁전의 추억(Memories of the Alhambra)' 제작발표회\n",
      "https://www.youtube.com/watch?v=4boNY5la7NQ\n",
      "https://i.ytimg.com/vi/4boNY5la7NQ/hqdefault.jpg?sqp=-oaymwEZCNACELwBSFXyq4qpAwsIARUAAIhCGAFwAQ==&rs=AOn4CLAFveEAg2z2G6St78wTa98pBEx10w\n",
      "Memories of the Alhambra [15화 예고] 이제 단 하나의 이야기만 남았다. 190119 EP.15\n",
      "https://www.youtube.com/watch?v=9AoNmFSs7XU\n",
      "https://i.ytimg.com/vi/9AoNmFSs7XU/hqdefault.jpg?sqp=-oaymwEZCNACELwBSFXyq4qpAwsIARUAAIhCGAFwAQ==&rs=AOn4CLA0Z1gIDda8j0UkRlPjWLYmntEFFA\n",
      "Memories of the Alhambra [하이라이트] 12월 1일, 현실이 된 마법의 순간을 놓치지 마세요 알함브라 궁전의 추억 181201 EP.1\n",
      "https://www.youtube.com/watch?v=GrmYeF7Bik8\n",
      "https://i.ytimg.com/vi/GrmYeF7Bik8/hqdefault.jpg?sqp=-oaymwEZCNACELwBSFXyq4qpAwsIARUAAIhCGAFwAQ==&rs=AOn4CLA0niZB7fT1IarJ17Hi_RgH4MSXeQ\n",
      "알함브라 궁전의 추억, 현빈-박신혜 러브라인 아쉬움과 결말걱정\n",
      "https://www.youtube.com/watch?v=YQRxa1LuJA8\n",
      "https://i.ytimg.com/vi/YQRxa1LuJA8/hqdefault.jpg?sqp=-oaymwEZCNACELwBSFXyq4qpAwsIARUAAIhCGAFwAQ==&rs=AOn4CLBXON_Axf16lIQ-FoOyqj65bW0hLA\n",
      "Memories of the Alhambra [14화 예고] 100 레벨 넘은 진우, 엠마와 다시 만나다! 190113 EP.14\n",
      "https://www.youtube.com/watch?v=aCPe3PlllgQ\n",
      "https://i.ytimg.com/vi/aCPe3PlllgQ/hqdefault.jpg?sqp=-oaymwEZCNACELwBSFXyq4qpAwsIARUAAIhCGAFwAQ==&rs=AOn4CLCyf9qO8T6v0arlLLOhO1XiJYXYag\n",
      "알함브라 궁전의 추억 엠마 특수기능 떡밥?!\n",
      "https://www.youtube.com/watch?v=1pD5hUARh40\n",
      "https://i.ytimg.com/vi/1pD5hUARh40/hqdefault.jpg?sqp=-oaymwEZCNACELwBSFXyq4qpAwsIARUAAIhCGAFwAQ==&rs=AOn4CLC2oVXoolut8j1Mt6lxmr5L9TMcIw\n",
      "알함브라 궁전의 추억, 우리가 놓친 떡밥과 복선으로 풀어보는 전개예측\n",
      "https://www.youtube.com/watch?v=y8MrhqfQP-g\n",
      "https://i.ytimg.com/vi/y8MrhqfQP-g/hqdefault.jpg?sqp=-oaymwEZCNACELwBSFXyq4qpAwsIARUAAIhCGAFwAQ==&rs=AOn4CLDccVpiRivpBZgMCIby6_TrrpbbRg\n",
      "[MV] Yang Da Il (양다일) - I'm Here (알함브라 궁전의 추억 OST Part 5 _ Memories of The Alhambra OST Part 5)\n",
      "https://www.youtube.com/watch?v=6i7-IiWQcHo\n",
      "https://i.ytimg.com/vi/6i7-IiWQcHo/hqdefault.jpg?sqp=-oaymwEZCNACELwBSFXyq4qpAwsIARUAAIhCGAFwAQ==&rs=AOn4CLBHQYPFvmRSWgyQiSApCusEqE8JKg\n",
      "[알함브라궁전의추억] 현빈×박신혜 1~8화 로맨스 몰아보기♡\n",
      "https://www.youtube.com/watch?v=7LF1uICQ8Jw\n",
      "https://i.ytimg.com/vi/7LF1uICQ8Jw/hqdefault.jpg?sqp=-oaymwEZCNACELwBSFXyq4qpAwsIARUAAIhCGAFwAQ==&rs=AOn4CLDpYlD0rD6P2wabiKVWAcdbKX-5bw\n",
      "“다들 부럽대요~” 수줍은 박신혜(Park Shin hye) 옆에서 현빈(Hyun Bin) '오빠 미소' @'알함브라 궁전의 추억' 제작발표회\n",
      "https://www.youtube.com/watch?v=1HgkqpCbVu8\n",
      "https://i.ytimg.com/vi/1HgkqpCbVu8/hqdefault.jpg?sqp=-oaymwEZCNACELwBSFXyq4qpAwsIARUAAIhCGAFwAQ==&rs=AOn4CLCvq2nIsiZSsptw8WwQhGFBaLYakw\n"
     ]
    },
    {
     "name": "stdout",
     "output_type": "stream",
     "text": [
      "[알함브라궁전의추억.현빈][1화 엔딩] 세상을 바꿀 진짜 열쇠는 희주에게 있었다\n",
      "https://www.youtube.com/watch?v=Qm03mrJdEDA\n",
      "https://i.ytimg.com/vi/Qm03mrJdEDA/hqdefault.jpg?sqp=-oaymwEZCNACELwBSFXyq4qpAwsIARUAAIhCGAFwAQ==&rs=AOn4CLBE04_IIiPUP7cwVLKVAFxX0l1wYg\n",
      "“현빈씨 아빠? 악역?” 억울한 김의성과 빵~터진 현빈 & 박신혜 @'알함브라 궁전의 추억' 제작발표회\n",
      "https://www.youtube.com/watch?v=XxXkS9pX984\n",
      "https://i.ytimg.com/vi/XxXkS9pX984/hqdefault.jpg?sqp=-oaymwEZCNACELwBSFXyq4qpAwsIARUAAIhCGAFwAQ==&rs=AOn4CLC4Fa2hwgyxisdjCeiQO_KeSTXkIw\n",
      "[MV] George (죠지) - Memories of the Alhambra (알함브라 궁전의 추억 OST Part 4)\n",
      "https://www.youtube.com/watch?v=nNCy5Au0OEc\n",
      "https://i.ytimg.com/vi/nNCy5Au0OEc/hqdefault.jpg?sqp=-oaymwEZCNACELwBSFXyq4qpAwsIARUAAIhCGAFwAQ==&rs=AOn4CLDF-c15zqPemc0iadb9Mf4cZ2ZTVg\n",
      "E02(1년 후) 다리를 절뚝이던(?) 진우, 권총과 함께 다시 시작된 혈투!\n",
      "https://www.youtube.com/watch?v=1qTTB2TlnJo\n",
      "https://i.ytimg.com/vi/1qTTB2TlnJo/hqdefault.jpg?sqp=-oaymwEZCNACELwBSFXyq4qpAwsIARUAAIhCGAFwAQ==&rs=AOn4CLBPo8Tz7MTlj-BBn4hNmRQh49HXsA\n",
      "Memories of the Alhambra 지하 감옥 끝까지 갔지만 세주는 없었다. 그가 남긴 아이템 황금열쇠 뿐… 190105 EP.11\n",
      "https://www.youtube.com/watch?v=fPvGZWzqJ1U\n",
      "https://i.ytimg.com/vi/fPvGZWzqJ1U/hqdefault.jpg?sqp=-oaymwEZCNACELwBSFXyq4qpAwsIARUAAIhCGAFwAQ==&rs=AOn4CLDviocln8DeUJyNyDH4071F3tMkgg\n",
      "Memories of the Alhambra 애인 해달라면서요? (ft.조련왕 진우의 귀환.. 환영해요, 진심이에요.) 190105 EP.11\n",
      "https://www.youtube.com/watch?v=zmURFa4YQaI\n",
      "https://i.ytimg.com/vi/zmURFa4YQaI/hqdefault.jpg?sqp=-oaymwEZCNACELwBSFXyq4qpAwsIARUAAIhCGAFwAQ==&rs=AOn4CLCQfAzTBsMksenQYx9_B-U6c_H0RA\n",
      "Eddy Kim (에디킴) - Maybe We 우린 어쩌면 (알함브라 궁전의 추억) [OST Part 6] Memories of The Alhambra OST Part 6 [MV]\n",
      "https://www.youtube.com/watch?v=LdDtHSvH0i8\n",
      "https://i.ytimg.com/vi/LdDtHSvH0i8/hqdefault.jpg?sqp=-oaymwEZCNACELwBSFXyq4qpAwsIARUAAIhCGAFwAQ==&rs=AOn4CLBxZr8xqVcJ4KYF8wpldR9woh4H0A\n",
      "[MV] Elaine (일레인) - 백일몽 (Daydream) (알함브라 궁전의 추억 OST Part 2 Memories of The Alhambra OST Part 2)\n",
      "https://www.youtube.com/watch?v=AzV8PdGpkcA\n",
      "https://i.ytimg.com/vi/AzV8PdGpkcA/hqdefault.jpg?sqp=-oaymwEZCNACELwBSFXyq4qpAwsIARUAAIhCGAFwAQ==&rs=AOn4CLDJxwbJamWQNRZMg_aIWAFvW40KIA\n",
      "알함브라 궁전의 추억 복선 세주위치는 바로 이곳?\n",
      "https://www.youtube.com/watch?v=TottvDoInB0\n",
      "https://i.ytimg.com/vi/TottvDoInB0/hqdefault.jpg?sqp=-oaymwEZCNACELwBSFXyq4qpAwsIARUAAIhCGAFwAQ==&rs=AOn4CLB1ON_cwGzd4nFPt8afXMrHA1N9Mw\n",
      "알함브라 궁전의 추억과 시바의 여왕\n",
      "https://www.youtube.com/watch?v=uDfTm13ETF0\n",
      "https://i.ytimg.com/vi/uDfTm13ETF0/hqdefault.jpg?sqp=-oaymwEZCNACELwBSFXyq4qpAwsIARUAAIhCGAFwAQ==&rs=AOn4CLCJkrTr5Xz4TcFa2jWIzZchsaIcqA\n",
      "[ENG SUB] 알함브라 궁전의 추억 패러디 대표x비서의 극반전케미!\n",
      "https://www.youtube.com/watch?v=6aS1itu1UFQ\n",
      "https://i.ytimg.com/vi/6aS1itu1UFQ/hqdefault.jpg?sqp=-oaymwEZCNACELwBSFXyq4qpAwsIARUAAIhCGAFwAQ==&rs=AOn4CLDhZouwVAIJ-H485nTl4neKT28zYQ\n",
      "[드라마 알함브라 궁전의 추억 메이킹] 스페인어 하는 희주가 신기한 진우\n",
      "https://www.youtube.com/watch?v=dqyecg3FtV8\n",
      "https://i.ytimg.com/vi/dqyecg3FtV8/hqdefault.jpg?sqp=-oaymwEZCNACELwBSFXyq4qpAwsIARUAAIhCGAFwAQ==&rs=AOn4CLBPxYX581OUH0v0CAwO5NNTMlBRJg\n",
      "[알함브라궁전의추억] 속, '증강현실', 팩트체크!\n",
      "https://www.youtube.com/watch?v=bpmQEWggWJ4\n",
      "https://i.ytimg.com/vi/bpmQEWggWJ4/hqdefault.jpg?sqp=-oaymwEZCNACELwBSFXyq4qpAwsIARUAAIhCGAFwAQ==&rs=AOn4CLCW_UPOQzj5AV7vXsMYHVCd2U1D-g\n",
      "알함브라 궁전의 추억 쫑파티 현장 멀리서 고기 먹는 현빈..\n",
      "https://www.youtube.com/watch?v=ycYC2pCDkhU\n",
      "https://i.ytimg.com/vi/ycYC2pCDkhU/hqdefault.jpg?sqp=-oaymwEZCNACELwBSFXyq4qpAwsIARUAAIhCGAFwAQ==&rs=AOn4CLCLHN3_KFLpOLSzUfjbMRcq8ol7gA\n",
      "[온스테이지] 227. 박규희 - Recuerdos de la Alhambra\n",
      "https://www.youtube.com/watch?v=pIjwfaeev5M\n",
      "https://i.ytimg.com/vi/pIjwfaeev5M/hqdefault.jpg?sqp=-oaymwEZCNACELwBSFXyq4qpAwsIARUAAIhCGAFwAQ==&rs=AOn4CLCXuy8yYR2DJtSyNFGANiSc0c0UqA\n",
      "시간 멈추고 피팅룸서 ‘애틋+격정’ 작별 키스 나눈 현빈♥박신혜\n",
      "https://www.youtube.com/watch?v=nLfJCZ3dnaU\n",
      "https://i.ytimg.com/vi/nLfJCZ3dnaU/hqdefault.jpg?sqp=-oaymwEZCNACELwBSFXyq4qpAwsIARUAAIhCGAFwAQ==&rs=AOn4CLBCrRFR0aTlb-rdR2E8TmVkj2uJbg\n",
      "Memories of the Alhambra [13화 예고] 희주, 게임 속으로 들어오다! 190112 EP.13\n",
      "https://www.youtube.com/watch?v=tWIECtFKxGc\n",
      "https://i.ytimg.com/vi/tWIECtFKxGc/hqdefault.jpg?sqp=-oaymwEZCNACELwBSFXyq4qpAwsIARUAAIhCGAFwAQ==&rs=AOn4CLC44YdLBVgvtGxAgYqSAgiNr0aDoQ\n",
      "20181128 알함브라궁전의추억 사전시사회\n",
      "https://www.youtube.com/watch?v=Pcq3uh1gyuw\n",
      "https://i.ytimg.com/vi/Pcq3uh1gyuw/hqdefault.jpg?sqp=-oaymwEZCNACELwBSFXyq4qpAwsIARUAAIhCGAFwAQ==&rs=AOn4CLDNavtQQRvbCJT8zq1MYBfGNxnlvg\n",
      "박신혜의 스페인어, 원어민 김만두 선생에게 물어봤다.\n",
      "https://www.youtube.com/watch?v=zX4glat647I\n",
      "https://i.ytimg.com/vi/zX4glat647I/hqdefault.jpg?sqp=-oaymwEZCNACELwBSFXyq4qpAwsIARUAAIhCGAFwAQ==&rs=AOn4CLBFUI1BcBxPuXNXqdGihH_3IGBZhA\n",
      "Memories of the Alhambra [11화 엔딩] 진우♥희주 증명 키스!!!!!!! (믿고 말고요!!) 190105 EP.11\n",
      "https://www.youtube.com/watch?v=aPb-EX4WFSE\n",
      "https://i.ytimg.com/vi/aPb-EX4WFSE/hqdefault.jpg?sqp=-oaymwEZCNACELwBSFXyq4qpAwsIARUAAIhCGAFwAQ==&rs=AOn4CLBljm-w94aHyB6ukOWf28d5D0jF6w\n",
      "“촬영도 레벨업~” 비주얼 '만렙' 현빈 & 박신혜 @알함브라 궁전의 추억 제작발표회\n",
      "https://www.youtube.com/watch?v=iJbQI9jSZhQ\n",
      "https://i.ytimg.com/vi/iJbQI9jSZhQ/hqdefault.jpg?sqp=-oaymwEZCNACELwBSFXyq4qpAwsIARUAAIhCGAFwAQ==&rs=AOn4CLBskZL7Nyf3Qffh7TyLdrlSv9YJkQ\n",
      "Memories of the Alhambra [14화 예고] 진우♥희주의 걱정 포옹 '말 안 들어요 진짜?' 190113 EP.14\n",
      "https://www.youtube.com/watch?v=2-70drva_vw\n",
      "https://i.ytimg.com/vi/2-70drva_vw/hqdefault.jpg?sqp=-oaymwEZCNACELwBSFXyq4qpAwsIARUAAIhCGAFwAQ==&rs=AOn4CLDJcAcEVubQtMMQeuMM_0dE8DsDaA\n",
      "[KY 금영노래방] I'm Here(드라마 '알함브라 궁전의 추억') - 양다일 (KY.92767)\n",
      "https://www.youtube.com/watch?v=BMUoX4UxZgw\n",
      "https://i.ytimg.com/vi/BMUoX4UxZgw/hqdefault.jpg?sqp=-oaymwEZCNACELwBSFXyq4qpAwsIARUAAIhCGAFwAQ==&rs=AOn4CLASRUDAdeI1fx0n8fQsOTkOrYQ2yQ\n",
      "EXO(엑소) _ 알함브라 추격전 세훈이 생각하면서 뛰었던 찬열 (feat. 세훈이의 비밀액션) 😍\n",
      "https://www.youtube.com/watch?v=L7CyuX3Fi4k\n",
      "https://i.ytimg.com/vi/L7CyuX3Fi4k/hqdefault.jpg?sqp=-oaymwEZCNACELwBSFXyq4qpAwsIARUAAIhCGAFwAQ==&rs=AOn4CLDHFxF2dQhDb1LEY_AaV7CJREcS8g\n",
      "알함브라 궁전의 추억, Recuerdos de la Alhambra (Francisco Tárrega)\n",
      "https://www.youtube.com/watch?v=u4URmxbs4Fs\n",
      "None\n",
      "Ailee (에일리) - Is You (알함브라 궁전의 추억) [OST Part 3] |Memories of The Alhambra OST Part 3 [MV]\n",
      "https://www.youtube.com/watch?v=nqR3FIlxhL4\n",
      "None\n",
      "'알함브라 궁전' 결말 나왔다..최종회 탈고·12월 말 촬영 종료 [단독]\n",
      "https://www.youtube.com/watch?v=COiDA4Jx0AQ\n",
      "None\n",
      "#알함브라궁전의추억\n",
      "https://www.youtube.com/watch?v=jWVI_55FF84\n",
      "None\n",
      "전지적 베스트리 시점 No.13\n",
      "https://www.youtube.com/watch?v=GCJON1VsfS8\n",
      "None\n",
      "Memories of the Alhambra [12화 예고] '끝까지 같이 가시죠.' 진우, 병준과 동맹 맺다..!? 190106 EP.12\n",
      "https://www.youtube.com/watch?v=ZyCLv90sOPA\n",
      "None\n",
      "알함브라궁전의추억 11회 테스트유저\n",
      "https://www.youtube.com/watch?v=tJg72cmIPVA\n",
      "None\n",
      "George(죠지) - 알함브라 궁전의 추억 Memories of the Alhambra OST Part 4 / 알함브라 궁전의 추억 OST Part 4\n",
      "https://www.youtube.com/watch?v=uypxc8OWgcI\n",
      "None\n",
      "박신혜 알함브라궁전의 추억 마지막찰영 소감 (2)\n",
      "https://www.youtube.com/watch?v=UMpFI9ui4nc\n",
      "None\n",
      "[MV] Ailee (에일리) - Is You (알함브라 궁전의 추억 OST Part 3 _ Memories of The Alhambra OST Part 3)\n",
      "https://www.youtube.com/watch?v=lXD28UyLQS8\n",
      "None\n",
      "2019.01.12 알함브라 궁전의 추억 마르꼬 한 독백\n"
     ]
    }
   ],
   "source": [
    "# 썸네일\n",
    "for v in videos:\n",
    "    print(v.find_element_by_id('thumbnail').get_attribute('href'))\n",
    "    print(v.find_element_by_id('img').get_attribute('src'))\n",
    "    print(v.find_element_by_id('video-title').text)"
   ]
  },
  {
   "cell_type": "code",
   "execution_count": null,
   "metadata": {},
   "outputs": [],
   "source": []
  }
 ],
 "metadata": {
  "kernelspec": {
   "display_name": "Python 3",
   "language": "python",
   "name": "python3"
  },
  "language_info": {
   "codemirror_mode": {
    "name": "ipython",
    "version": 3
   },
   "file_extension": ".py",
   "mimetype": "text/x-python",
   "name": "python",
   "nbconvert_exporter": "python",
   "pygments_lexer": "ipython3",
   "version": "3.6.5"
  }
 },
 "nbformat": 4,
 "nbformat_minor": 2
}
