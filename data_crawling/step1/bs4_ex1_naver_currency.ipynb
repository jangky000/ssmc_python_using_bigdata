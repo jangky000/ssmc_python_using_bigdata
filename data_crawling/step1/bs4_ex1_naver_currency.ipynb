{
 "cells": [
  {
   "cell_type": "markdown",
   "metadata": {},
   "source": [
    "# bs4를 통해서 웹 크롤링하기\n",
    "\n",
    "bs4 홈페이지 : https://www.crummy.com/software/BeautifulSoup/bs4/doc/"
   ]
  },
  {
   "cell_type": "code",
   "execution_count": 15,
   "metadata": {},
   "outputs": [],
   "source": [
    "from bs4 import BeautifulSoup\n",
    "from urllib.request import urlopen"
   ]
  },
  {
   "cell_type": "markdown",
   "metadata": {},
   "source": [
    "만약 원하는 데이터가 iframe일 경우\n",
    "iframe의 주소를 직접 들어가서 그 페이지를 크롤링한다\n",
    "```\n",
    "https://finance.naver.com/marketindex/exchangeList.nhn\n",
    "```\n",
    "접속해서 html를 파싱할 수 있게 메모리를 로드한다 -> `DOM`"
   ]
  },
  {
   "cell_type": "code",
   "execution_count": 16,
   "metadata": {},
   "outputs": [],
   "source": [
    "url_base = 'https://finance.naver.com/marketindex/exchangeList.nhn'"
   ]
  },
  {
   "cell_type": "code",
   "execution_count": 17,
   "metadata": {},
   "outputs": [],
   "source": [
    "# 요청\n",
    "page = urlopen(url_base) # page로 리턴되는 객체의 형태: <http.client.HTTPResponse at 0x10787b0b8>"
   ]
  },
  {
   "cell_type": "code",
   "execution_count": 18,
   "metadata": {},
   "outputs": [],
   "source": [
    "soup = BeautifulSoup(page,'html.parser')"
   ]
  },
  {
   "cell_type": "code",
   "execution_count": 28,
   "metadata": {},
   "outputs": [
    {
     "data": {
      "text/plain": [
       "['미국 USD', '유럽연합 EUR', '일본 JPY (100엔)']"
      ]
     },
     "execution_count": 28,
     "metadata": {},
     "output_type": "execute_result"
    }
   ],
   "source": [
    "# 원하는 데이터 추출\n",
    "# for td in soup.select('td.tit'): # 반환되는게 리스트 형태라서 바로 이렇게 반복문 가능\n",
    "#     print(td.a.string.strip()) # 통화명 뽑기\n",
    "    \n",
    "names = [ td.a.string.strip() for td in soup.select('td.tit') ]\n",
    "names[:3]"
   ]
  },
  {
   "cell_type": "code",
   "execution_count": 27,
   "metadata": {},
   "outputs": [
    {
     "data": {
      "text/plain": [
       "['1,122.00', '1,278.58', '1,030.54']"
      ]
     },
     "execution_count": 27,
     "metadata": {},
     "output_type": "execute_result"
    }
   ],
   "source": [
    "exchPrice = [ td.string.strip() for td in soup.select('td.sale') ]\n",
    "exchPrice[:3]"
   ]
  },
  {
   "cell_type": "code",
   "execution_count": 29,
   "metadata": {},
   "outputs": [
    {
     "name": "stdout",
     "output_type": "stream",
     "text": [
      "/marketindex/exchangeDetail.nhn?marketindexCd=FX_USDKRW\n",
      "/marketindex/exchangeDetail.nhn?marketindexCd=FX_EURKRW\n",
      "/marketindex/exchangeDetail.nhn?marketindexCd=FX_JPYKRW\n",
      "/marketindex/exchangeDetail.nhn?marketindexCd=FX_CNYKRW\n",
      "/marketindex/exchangeDetail.nhn?marketindexCd=FX_HKDKRW\n",
      "/marketindex/exchangeDetail.nhn?marketindexCd=FX_TWDKRW\n",
      "/marketindex/exchangeDetail.nhn?marketindexCd=FX_GBPKRW\n",
      "/marketindex/exchangeDetail.nhn?marketindexCd=FX_OMRKRW\n",
      "/marketindex/exchangeDetail.nhn?marketindexCd=FX_CADKRW\n",
      "/marketindex/exchangeDetail.nhn?marketindexCd=FX_CHFKRW\n",
      "/marketindex/exchangeDetail.nhn?marketindexCd=FX_SEKKRW\n",
      "/marketindex/exchangeDetail.nhn?marketindexCd=FX_AUDKRW\n",
      "/marketindex/exchangeDetail.nhn?marketindexCd=FX_NZDKRW\n",
      "/marketindex/exchangeDetail.nhn?marketindexCd=FX_CZKKRW\n",
      "/marketindex/exchangeDetail.nhn?marketindexCd=FX_CLPKRW\n",
      "/marketindex/exchangeDetail.nhn?marketindexCd=FX_TRYKRW\n",
      "/marketindex/exchangeDetail.nhn?marketindexCd=FX_MNTKRW\n",
      "/marketindex/exchangeDetail.nhn?marketindexCd=FX_ILSKRW\n",
      "/marketindex/exchangeDetail.nhn?marketindexCd=FX_DKKKRW\n",
      "/marketindex/exchangeDetail.nhn?marketindexCd=FX_NOKKRW\n",
      "/marketindex/exchangeDetail.nhn?marketindexCd=FX_SARKRW\n",
      "/marketindex/exchangeDetail.nhn?marketindexCd=FX_KWDKRW\n",
      "/marketindex/exchangeDetail.nhn?marketindexCd=FX_BHDKRW\n",
      "/marketindex/exchangeDetail.nhn?marketindexCd=FX_AEDKRW\n",
      "/marketindex/exchangeDetail.nhn?marketindexCd=FX_JODKRW\n",
      "/marketindex/exchangeDetail.nhn?marketindexCd=FX_EGPKRW\n",
      "/marketindex/exchangeDetail.nhn?marketindexCd=FX_THBKRW\n",
      "/marketindex/exchangeDetail.nhn?marketindexCd=FX_SGDKRW\n",
      "/marketindex/exchangeDetail.nhn?marketindexCd=FX_MYRKRW\n",
      "/marketindex/exchangeDetail.nhn?marketindexCd=FX_IDRKRW\n",
      "/marketindex/exchangeDetail.nhn?marketindexCd=FX_QARKRW\n",
      "/marketindex/exchangeDetail.nhn?marketindexCd=FX_KZTKRW\n",
      "/marketindex/exchangeDetail.nhn?marketindexCd=FX_BNDKRW\n",
      "/marketindex/exchangeDetail.nhn?marketindexCd=FX_INRKRW\n",
      "/marketindex/exchangeDetail.nhn?marketindexCd=FX_PKRKRW\n",
      "/marketindex/exchangeDetail.nhn?marketindexCd=FX_BDTKRW\n",
      "/marketindex/exchangeDetail.nhn?marketindexCd=FX_PHPKRW\n",
      "/marketindex/exchangeDetail.nhn?marketindexCd=FX_MXNKRW\n",
      "/marketindex/exchangeDetail.nhn?marketindexCd=FX_BRLKRW\n",
      "/marketindex/exchangeDetail.nhn?marketindexCd=FX_VNDKRW\n",
      "/marketindex/exchangeDetail.nhn?marketindexCd=FX_ZARKRW\n",
      "/marketindex/exchangeDetail.nhn?marketindexCd=FX_RUBKRW\n",
      "/marketindex/exchangeDetail.nhn?marketindexCd=FX_HUFKRW\n",
      "/marketindex/exchangeDetail.nhn?marketindexCd=FX_PLNKRW\n"
     ]
    }
   ],
   "source": [
    "# 통화명에 걸려있는 링크값\n",
    "for td in soup.select('td.tit'):\n",
    "    print(td.a['href'])"
   ]
  },
  {
   "cell_type": "code",
   "execution_count": 32,
   "metadata": {},
   "outputs": [
    {
     "data": {
      "text/plain": [
       "[{'통화명': '미국 USD',\n",
       "  'url': '/marketindex/exchangeDetail.nhn?marketindexCd=FX_USDKRW'},\n",
       " {'통화명': '유럽연합 EUR',\n",
       "  'url': '/marketindex/exchangeDetail.nhn?marketindexCd=FX_EURKRW'},\n",
       " {'통화명': '일본 JPY (100엔)',\n",
       "  'url': '/marketindex/exchangeDetail.nhn?marketindexCd=FX_JPYKRW'}]"
      ]
     },
     "execution_count": 32,
     "metadata": {},
     "output_type": "execute_result"
    }
   ],
   "source": [
    "data = [{'통화명' : td.a.string.strip(),\n",
    "         'url' : td.a['href']}\n",
    "        for td in soup.select('td.tit')\n",
    "]\n",
    "data[:3]"
   ]
  }
 ],
 "metadata": {
  "kernelspec": {
   "display_name": "Python 3",
   "language": "python",
   "name": "python3"
  },
  "language_info": {
   "codemirror_mode": {
    "name": "ipython",
    "version": 3
   },
   "file_extension": ".py",
   "mimetype": "text/x-python",
   "name": "python",
   "nbconvert_exporter": "python",
   "pygments_lexer": "ipython3",
   "version": "3.6.5"
  }
 },
 "nbformat": 4,
 "nbformat_minor": 2
}
